{
 "cells": [
  {
   "cell_type": "markdown",
   "metadata": {},
   "source": [
    "# Read in the data"
   ]
  },
  {
   "cell_type": "code",
   "execution_count": 19,
   "metadata": {
    "collapsed": false
   },
   "outputs": [
    {
     "data": {
      "text/plain": [
       "RespondentID                                                                                                                                                                              NaN\n",
       "Have you seen any of the 6 films in the Star Wars franchise?                                                                                                                         Response\n",
       "Do you consider yourself to be a fan of the Star Wars film franchise?                                                                                                                Response\n",
       "Which of the following Star Wars films have you seen? Please select all that apply.                                                                  Star Wars: Episode I  The Phantom Menace\n",
       "Unnamed: 4                                                                                                                                        Star Wars: Episode II  Attack of the Clones\n",
       "Unnamed: 5                                                                                                                                        Star Wars: Episode III  Revenge of the Sith\n",
       "Unnamed: 6                                                                                                                                                  Star Wars: Episode IV  A New Hope\n",
       "Unnamed: 7                                                                                                                                       Star Wars: Episode V The Empire Strikes Back\n",
       "Unnamed: 8                                                                                                                                           Star Wars: Episode VI Return of the Jedi\n",
       "Please rank the Star Wars films in order of preference with 1 being your favorite film in the franchise and 6 being your least favorite film.        Star Wars: Episode I  The Phantom Menace\n",
       "Unnamed: 10                                                                                                                                       Star Wars: Episode II  Attack of the Clones\n",
       "Unnamed: 11                                                                                                                                       Star Wars: Episode III  Revenge of the Sith\n",
       "Unnamed: 12                                                                                                                                                 Star Wars: Episode IV  A New Hope\n",
       "Unnamed: 13                                                                                                                                      Star Wars: Episode V The Empire Strikes Back\n",
       "Unnamed: 14                                                                                                                                          Star Wars: Episode VI Return of the Jedi\n",
       "Please state whether you view the following characters favorably, unfavorably, or are unfamiliar with him/her.                                                                       Han Solo\n",
       "Unnamed: 16                                                                                                                                                                    Luke Skywalker\n",
       "Unnamed: 17                                                                                                                                                              Princess Leia Organa\n",
       "Unnamed: 18                                                                                                                                                                  Anakin Skywalker\n",
       "Unnamed: 19                                                                                                                                                                    Obi Wan Kenobi\n",
       "Unnamed: 20                                                                                                                                                                 Emperor Palpatine\n",
       "Unnamed: 21                                                                                                                                                                       Darth Vader\n",
       "Unnamed: 22                                                                                                                                                                  Lando Calrissian\n",
       "Unnamed: 23                                                                                                                                                                         Boba Fett\n",
       "Unnamed: 24                                                                                                                                                                             C-3P0\n",
       "Unnamed: 25                                                                                                                                                                             R2 D2\n",
       "Unnamed: 26                                                                                                                                                                     Jar Jar Binks\n",
       "Unnamed: 27                                                                                                                                                                     Padme Amidala\n",
       "Unnamed: 28                                                                                                                                                                              Yoda\n",
       "Which character shot first?                                                                                                                                                          Response\n",
       "Are you familiar with the Expanded Universe?                                                                                                                                         Response\n",
       "Do you consider yourself to be a fan of the Expanded Universe?ÂÃ¦                                                                                                                   Response\n",
       "Do you consider yourself to be a fan of the Star Trek franchise?                                                                                                                     Response\n",
       "Gender                                                                                                                                                                               Response\n",
       "Age                                                                                                                                                                                  Response\n",
       "Household Income                                                                                                                                                                     Response\n",
       "Education                                                                                                                                                                            Response\n",
       "Location (Census Region)                                                                                                                                                             Response\n",
       "Name: 0, dtype: object"
      ]
     },
     "execution_count": 19,
     "metadata": {},
     "output_type": "execute_result"
    }
   ],
   "source": [
    "%matplotlib inline\n",
    "\n",
    "import pandas as pd\n",
    "import matplotlib.pyplot as plt\n",
    "import numpy as np\n",
    "\n",
    "star_wars = pd.read_csv(\"datasets/star_wars.csv\", encoding = \"ISO-8859-1\")\n",
    "star_wars.loc[0]"
   ]
  },
  {
   "cell_type": "markdown",
   "metadata": {},
   "source": [
    "# Remove rows with null or NaN Respondant ID"
   ]
  },
  {
   "cell_type": "code",
   "execution_count": 20,
   "metadata": {
    "collapsed": false
   },
   "outputs": [],
   "source": [
    "is_not_null = pd.notnull(star_wars['RespondentID'])\n",
    "star_wars = star_wars.loc[is_not_null]"
   ]
  },
  {
   "cell_type": "markdown",
   "metadata": {},
   "source": [
    "# Convert Yes/No responses to booleans"
   ]
  },
  {
   "cell_type": "code",
   "execution_count": 21,
   "metadata": {
    "collapsed": false
   },
   "outputs": [],
   "source": [
    "yes_no_mapping = {'Yes': True, 'No': False}\n",
    "\n",
    "# Map column at location 1 and 2 to Yes/No\n",
    "star_wars[star_wars.columns[1]] = star_wars[star_wars.columns[1]].map(yes_no_mapping)\n",
    "star_wars[star_wars.columns[2]] = star_wars[star_wars.columns[2]].map(yes_no_mapping)"
   ]
  },
  {
   "cell_type": "markdown",
   "metadata": {},
   "source": [
    "# Map Movie seen/not seen column to Booleans"
   ]
  },
  {
   "cell_type": "code",
   "execution_count": 22,
   "metadata": {
    "collapsed": false
   },
   "outputs": [],
   "source": [
    "star_wars_maps1 = {\"Star Wars: Episode I  The Phantom Menace\": True, \"NaN\": False}\n",
    "star_wars_maps2 = {\"Star Wars: Episode II  Attack of the Clones\": True, \"NaN\": False}\n",
    "star_wars_maps3 = {\"Star Wars: Episode III  Revenge of the Sith\": True, \"NaN\": False}\n",
    "star_wars_maps4 = {\"Star Wars: Episode IV  A New Hope\": True, \"NaN\": False}\n",
    "star_wars_maps5 = {\"Star Wars: Episode V The Empire Strikes Back\": True}\n",
    "star_wars_maps6 = {\"Star Wars: Episode VI Return of the Jedi\": True, \"NaN\" : False}\n",
    "\n",
    "star_wars[star_wars.columns[3]] = star_wars[star_wars.columns[3]].map(star_wars_maps1)\n",
    "star_wars[star_wars.columns[4]] = star_wars[star_wars.columns[4]].map(star_wars_maps2)\n",
    "star_wars[star_wars.columns[5]] = star_wars[star_wars.columns[5]].map(star_wars_maps3)\n",
    "star_wars[star_wars.columns[6]] = star_wars[star_wars.columns[6]].map(star_wars_maps4)\n",
    "star_wars[star_wars.columns[7]] = star_wars[star_wars.columns[7]].map(star_wars_maps5)\n",
    "star_wars[star_wars.columns[8]] = star_wars[star_wars.columns[8]].map(star_wars_maps6)"
   ]
  },
  {
   "cell_type": "markdown",
   "metadata": {},
   "source": [
    "# Rename column names for movie seen/not seen columns"
   ]
  },
  {
   "cell_type": "code",
   "execution_count": 23,
   "metadata": {
    "collapsed": false
   },
   "outputs": [],
   "source": [
    "movie_col_names_map = {\n",
    "    \"Which of the following Star Wars films have you seen? Please select all that apply.\": \"seen_1\",\n",
    "    \"Unnamed: 4\" : \"seen_2\",\n",
    "    \"Unnamed: 5\" : \"seen_3\",\n",
    "    \"Unnamed: 6\" : \"seen_4\",\n",
    "    \"Unnamed: 7\" : \"seen_5\",\n",
    "    \"Unnamed: 8\" : \"seen_6\",}\n",
    "\n",
    "star_wars.rename(columns = movie_col_names_map, inplace = True)"
   ]
  },
  {
   "cell_type": "markdown",
   "metadata": {},
   "source": [
    "# Clean ranking columns"
   ]
  },
  {
   "cell_type": "code",
   "execution_count": 24,
   "metadata": {
    "collapsed": false
   },
   "outputs": [],
   "source": [
    "# Change type to integers\n",
    "star_wars[star_wars.columns[9:15]] = star_wars[star_wars.columns[9:15]].astype(float)\n",
    "\n",
    "# Rename columns\n",
    "rank_col_names_map = {\n",
    "    \"Please rank the Star Wars films in order of preference with 1 being your favorite film in the franchise and 6 being your least favorite film.\": \"ranking_1\",\n",
    "    \"Unnamed: 10\" : \"ranking_2\",\n",
    "    \"Unnamed: 11\" : \"ranking_3\",\n",
    "    \"Unnamed: 12\" : \"ranking_4\",\n",
    "    \"Unnamed: 13\" : \"ranking_5\",\n",
    "    \"Unnamed: 14\" : \"ranking_6\",}\n",
    "star_wars.rename(columns = rank_col_names_map, inplace = True)"
   ]
  },
  {
   "cell_type": "markdown",
   "metadata": {},
   "source": [
    "# Determine highest rated movie"
   ]
  },
  {
   "cell_type": "code",
   "execution_count": 25,
   "metadata": {
    "collapsed": false
   },
   "outputs": [
    {
     "data": {
      "image/png": "[encoded data removed]",
      "text/plain": [
       "<matplotlib.figure.Figure at 0x113535bd0>"
      ]
     },
     "metadata": {},
     "output_type": "display_data"
    }
   ],
   "source": [
    "ranking_means = star_wars[star_wars.columns[9:15]].apply(np.mean)\n",
    "\n",
    "cb_blue = (0/255.0, 107/255.0, 164/255.0)\n",
    "cb_orange = (255/255.0, 128/255.0, 14/255.0)\n",
    "\n",
    "fig, ax = plt.subplots(figsize = (8,6))\n",
    "ranking_means.plot.barh(ax = ax, color = cb_blue, alpha = 0.8)\n",
    "\n",
    "for key, val in ax.spines.items():\n",
    "    ax.spines[key].set_visible(False)\n",
    "\n",
    "ax.tick_params(bottom = 'off', right = 'off', top = 'off', left = 'off')\n",
    "ax.set_yticklabels(['Star Wars I', 'Star Wars II', 'Star Wars III', 'Star Wars IV', 'Star Wars V', 'Star Wars VI'])\n",
    "ax.set_title('Star Wars Rankings')\n",
    "\n",
    "plt.show()"
   ]
  },
  {
   "cell_type": "markdown",
   "metadata": {
    "collapsed": true
   },
   "source": [
    "### Since Star Wars V has lowest rank, this is the most popular movie amoung star wars series and Star Wars III is the least popular movie."
   ]
  },
  {
   "cell_type": "markdown",
   "metadata": {},
   "source": [
    "# Finding the most viewed movie"
   ]
  },
  {
   "cell_type": "code",
   "execution_count": 26,
   "metadata": {
    "collapsed": false
   },
   "outputs": [
    {
     "data": {
      "image/png": "[encoded data removed]",
      "text/plain": [
       "<matplotlib.figure.Figure at 0x113535310>"
      ]
     },
     "metadata": {},
     "output_type": "display_data"
    }
   ],
   "source": [
    "seen_counts = star_wars[star_wars.columns[3:9]].sum()\n",
    "\n",
    "fig, ax = plt.subplots(figsize = (8,6))\n",
    "seen_counts.plot.barh(ax = ax, color = cb_blue, alpha = 0.8)\n",
    "\n",
    "for key, val in ax.spines.items():\n",
    "    ax.spines[key].set_visible(False)\n",
    "\n",
    "ax.tick_params(bottom = 'off', right = 'off', top = 'off', left = 'off')\n",
    "ax.set_yticklabels(['Star Wars I', 'Star Wars II', 'Star Wars III', 'Star Wars IV', 'Star Wars V', 'Star Wars VI'])\n",
    "ax.set_title('Seen counts of Star Wars series')\n",
    "\n",
    "plt.show()"
   ]
  },
  {
   "cell_type": "markdown",
   "metadata": {},
   "source": [
    "### Star Wars V is most viewed movie in the series (which is also the most rated movie). Star Wars III is least seen movie, which is also the least popular movie in the series. \n",
    "### Hence the viewership is correlated with rating of the movie"
   ]
  },
  {
   "cell_type": "markdown",
   "metadata": {},
   "source": [
    "# Exploring data for Male/Female segments"
   ]
  },
  {
   "cell_type": "code",
   "execution_count": 27,
   "metadata": {
    "collapsed": false
   },
   "outputs": [
    {
     "data": {
      "image/png": "[encoded data removed]",
      "text/plain": [
       "<matplotlib.figure.Figure at 0x11357ac90>"
      ]
     },
     "metadata": {},
     "output_type": "display_data"
    }
   ],
   "source": [
    "# Determine highest rated movie and most viewed movie among the series for males and females separately\n",
    "males = star_wars[star_wars[\"Gender\"] == \"Male\"]\n",
    "females = star_wars[star_wars[\"Gender\"] == \"Female\"]\n",
    "\n",
    "# Create DataFrame from rankings\n",
    "ranking_means_males = males[males.columns[9:15]].apply(np.mean)\n",
    "ranking_means_females = females[females.columns[9:15]].apply(np.mean)\n",
    "ranking_males_females = pd.DataFrame(data = {'Male': ranking_means_males, 'Female': ranking_means_females})\n",
    "\n",
    "# Create DataFrame from viewerships\n",
    "seen_means_males = males[males.columns[3:9]].apply(np.sum)\n",
    "seen_means_females = females[females.columns[3:9]].apply(np.sum)\n",
    "seen_males_females = pd.DataFrame(data = {'Male': seen_means_males, 'Female': seen_means_females})\n",
    "\n",
    "bar_width = 0.35\n",
    "colors = [cb_blue, cb_orange]\n",
    "cols = ['Male','Female']\n",
    "\n",
    "fig = plt.figure(figsize = (15,6))\n",
    "ax1 = fig.add_subplot(1,2,1)\n",
    "ax2 = fig.add_subplot(1,2,2)\n",
    "\n",
    "for i in range(2):\n",
    "    ax = fig.add_subplot(1,2,i+1)\n",
    "    \n",
    "    if i == 0:\n",
    "        ranking_males_females[cols].plot.bar(ax = ax, width = bar_width, color = colors, alpha = 0.8)\n",
    "        ax.set_title('Rankings')\n",
    "    else:\n",
    "        seen_males_females[cols].plot.bar(ax = ax, width = bar_width, color = colors, alpha = 0.8)\n",
    "        ax.set_title('Viewerships')\n",
    "\n",
    "    # Remove spines\n",
    "    for key, val in ax.spines.items():\n",
    "        ax.spines[key].set_visible(False)\n",
    "        \n",
    "    ax.tick_params(bottom = 'off', right = 'off', top = 'off', left = 'off')\n",
    "    ax.set_xticklabels(['Star Wars I', 'Star Wars II', 'Star Wars III', 'Star Wars IV', 'Star Wars V', 'Star Wars VI'])\n",
    "     \n",
    "plt.legend(loc='upper center') # This will change legend of the second plot only, which is desired\n",
    "plt.show()"
   ]
  },
  {
   "cell_type": "markdown",
   "metadata": {},
   "source": [
    "### From the plot above we observe that Star Wars I and II are more popular among females and Star Wars III, IV, V and VI are more popular among males\n",
    "### From viewrships, we observe that overall males watch Star Wars series more than females"
   ]
  },
  {
   "cell_type": "markdown",
   "metadata": {
    "collapsed": true
   },
   "source": [
    "# Exploring favorite characters"
   ]
  },
  {
   "cell_type": "code",
   "execution_count": 40,
   "metadata": {
    "collapsed": false
   },
   "outputs": [],
   "source": [
    "# Map the responses on a scale of 0 to 5\n",
    "fav_map = {\"Very favorably\" : 5,\n",
    "           \"Somewhat favorably\" : 4,\n",
    "           \"Neither favorably nor unfavorably (neutral)\" : 3,\n",
    "           \"Somewhat unfavorably\" : 2,\n",
    "           \"Very unfavorably\" : 1,\n",
    "           \"Unfamiliar (N/A)\" : 0,\n",
    "           \"NaN\" : 0\n",
    "}\n",
    "\n",
    "for i in range(15,29):\n",
    "    star_wars[star_wars.columns[i]] = star_wars[star_wars.columns[i]].map(fav_map)\n",
    "\n",
    "# Rename the columns\n",
    "char_names = ['Han Solo', 'Luke Skywalker', 'Princess Leia Organa', 'Anakin Skywalker', 'Obi Wan Kenobi', 'Emperor Palpatine', 'Darth Vader', 'Lando Calrissian', \n",
    "             'Boba Fett', 'C-3P0', 'R2 D2', 'Jar Jar Binks', 'Padme Amidala', 'Yoda']\n",
    "# Extract relevant col names for character columns and convert to list\n",
    "col_names = star_wars.columns[15:29].values.tolist()\n",
    "\n",
    "# Create a column name, renaming mapping dictionary\n",
    "col_name_map = {col_name: char_names[i] for (i, col_name) in enumerate(col_names)}\n",
    "\n",
    "# Rename column names\n",
    "star_wars.rename(columns = col_name_map, inplace = True)"
   ]
  },
  {
   "cell_type": "code",
   "execution_count": 48,
   "metadata": {
    "collapsed": false
   },
   "outputs": [
    {
     "data": {
      "image/png": "[encoded data removed]",
      "text/plain": [
       "<matplotlib.figure.Figure at 0x10430d750>"
      ]
     },
     "metadata": {},
     "output_type": "display_data"
    }
   ],
   "source": [
    "fav_character_score_means = star_wars[star_wars.columns[15:29]].apply(np.mean)\n",
    "\n",
    "fig, ax = plt.subplots(figsize = (8,6))\n",
    "fav_character_score_means.plot.barh(ax = ax, color = cb_orange, alpha = 1)\n",
    "\n",
    "for key, val in ax.spines.items():\n",
    "    ax.spines[key].set_visible(False)\n",
    "\n",
    "ax.tick_params(bottom = 'off', right = 'off', top = 'off', left = 'off')\n",
    "#ax.set_yticklabels(['Star Wars I', 'Star Wars II', 'Star Wars III', 'Star Wars IV', 'Star Wars V', 'Star Wars VI'])\n",
    "ax.set_title('Favorite characters')\n",
    "\n",
    "plt.show()"
   ]
  },
  {
   "cell_type": "code",
   "execution_count": null,
   "metadata": {
    "collapsed": false
   },
   "outputs": [],
   "source": []
  }
 ],
 "metadata": {
  "anaconda-cloud": {},
  "kernelspec": {
   "display_name": "Python [default]",
   "language": "python",
   "name": "python2"
  },
  "language_info": {
   "codemirror_mode": {
    "name": "ipython",
    "version": 2
   },
   "file_extension": ".py",
   "mimetype": "text/x-python",
   "name": "python",
   "nbconvert_exporter": "python",
   "pygments_lexer": "ipython2",
   "version": "2.7.12"
  }
 },
 "nbformat": 4,
 "nbformat_minor": 0
}
