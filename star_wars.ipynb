{
 "cells": [
  {
   "cell_type": "markdown",
   "metadata": {},
   "source": [
    "# Read in the data"
   ]
  },
  {
   "cell_type": "code",
   "execution_count": 1,
   "metadata": {
    "collapsed": false
   },
   "outputs": [
    {
     "data": {
      "text/plain": [
       "Index([u'RespondentID',\n",
       "       u'Have you seen any of the 6 films in the Star Wars franchise?',\n",
       "       u'Do you consider yourself to be a fan of the Star Wars film franchise?',\n",
       "       u'Which of the following Star Wars films have you seen? Please select all that apply.',\n",
       "       u'Unnamed: 4', u'Unnamed: 5', u'Unnamed: 6', u'Unnamed: 7',\n",
       "       u'Unnamed: 8',\n",
       "       u'Please rank the Star Wars films in order of preference with 1 being your favorite film in the franchise and 6 being your least favorite film.',\n",
       "       u'Unnamed: 10', u'Unnamed: 11', u'Unnamed: 12', u'Unnamed: 13',\n",
       "       u'Unnamed: 14',\n",
       "       u'Please state whether you view the following characters favorably, unfavorably, or are unfamiliar with him/her.',\n",
       "       u'Unnamed: 16', u'Unnamed: 17', u'Unnamed: 18', u'Unnamed: 19',\n",
       "       u'Unnamed: 20', u'Unnamed: 21', u'Unnamed: 22', u'Unnamed: 23',\n",
       "       u'Unnamed: 24', u'Unnamed: 25', u'Unnamed: 26', u'Unnamed: 27',\n",
       "       u'Unnamed: 28', u'Which character shot first?',\n",
       "       u'Are you familiar with the Expanded Universe?',\n",
       "       u'Do you consider yourself to be a fan of the Expanded Universe?ÂÃ¦',\n",
       "       u'Do you consider yourself to be a fan of the Star Trek franchise?',\n",
       "       u'Gender', u'Age', u'Household Income', u'Education',\n",
       "       u'Location (Census Region)'],\n",
       "      dtype='object')"
      ]
     },
     "execution_count": 1,
     "metadata": {},
     "output_type": "execute_result"
    }
   ],
   "source": [
    "%matplotlib inline\n",
    "\n",
    "import pandas as pd\n",
    "import matplotlib.pyplot as plt\n",
    "import numpy as np\n",
    "\n",
    "star_wars = pd.read_csv(\"datasets/star_wars.csv\", encoding = \"ISO-8859-1\")\n",
    "star_wars.columns"
   ]
  },
  {
   "cell_type": "markdown",
   "metadata": {},
   "source": [
    "# Remove rows with null or NaN Respondant ID"
   ]
  },
  {
   "cell_type": "code",
   "execution_count": 2,
   "metadata": {
    "collapsed": false
   },
   "outputs": [],
   "source": [
    "is_not_null = pd.notnull(star_wars['RespondentID'])\n",
    "star_wars = star_wars.loc[is_not_null]"
   ]
  },
  {
   "cell_type": "markdown",
   "metadata": {},
   "source": [
    "# Convert Yes/No responses to booleans"
   ]
  },
  {
   "cell_type": "code",
   "execution_count": 3,
   "metadata": {
    "collapsed": false
   },
   "outputs": [],
   "source": [
    "yes_no_mapping = {'Yes': True, 'No': False}\n",
    "\n",
    "# Map column at location 1 and 2 to Yes/No\n",
    "star_wars[star_wars.columns[1]] = star_wars[star_wars.columns[1]].map(yes_no_mapping)\n",
    "star_wars[star_wars.columns[2]] = star_wars[star_wars.columns[2]].map(yes_no_mapping)"
   ]
  },
  {
   "cell_type": "markdown",
   "metadata": {},
   "source": [
    "# Map Movie seen/not seen column to Booleans"
   ]
  },
  {
   "cell_type": "code",
   "execution_count": 4,
   "metadata": {
    "collapsed": false
   },
   "outputs": [],
   "source": [
    "star_wars_maps1 = {\"Star Wars: Episode I  The Phantom Menace\": True, \"NaN\": False}\n",
    "star_wars_maps2 = {\"Star Wars: Episode II  Attack of the Clones\": True, \"NaN\": False}\n",
    "star_wars_maps3 = {\"Star Wars: Episode III  Revenge of the Sith\": True, \"NaN\": False}\n",
    "star_wars_maps4 = {\"Star Wars: Episode IV  A New Hope\": True, \"NaN\": False}\n",
    "star_wars_maps5 = {\"Star Wars: Episode V The Empire Strikes Back\": True}\n",
    "star_wars_maps6 = {\"Star Wars: Episode VI Return of the Jedi\": True, \"NaN\" : False}\n",
    "\n",
    "star_wars[star_wars.columns[3]] = star_wars[star_wars.columns[3]].map(star_wars_maps1)\n",
    "star_wars[star_wars.columns[4]] = star_wars[star_wars.columns[4]].map(star_wars_maps2)\n",
    "star_wars[star_wars.columns[5]] = star_wars[star_wars.columns[5]].map(star_wars_maps3)\n",
    "star_wars[star_wars.columns[6]] = star_wars[star_wars.columns[6]].map(star_wars_maps4)\n",
    "star_wars[star_wars.columns[7]] = star_wars[star_wars.columns[7]].map(star_wars_maps5)\n",
    "star_wars[star_wars.columns[8]] = star_wars[star_wars.columns[8]].map(star_wars_maps6)"
   ]
  },
  {
   "cell_type": "markdown",
   "metadata": {},
   "source": [
    "# Rename column names for movie seen/not seen columns"
   ]
  },
  {
   "cell_type": "code",
   "execution_count": 5,
   "metadata": {
    "collapsed": false
   },
   "outputs": [],
   "source": [
    "movie_col_names_map = {\n",
    "    \"Which of the following Star Wars films have you seen? Please select all that apply.\": \"seen_1\",\n",
    "    \"Unnamed: 4\" : \"seen_2\",\n",
    "    \"Unnamed: 5\" : \"seen_3\",\n",
    "    \"Unnamed: 6\" : \"seen_4\",\n",
    "    \"Unnamed: 7\" : \"seen_5\",\n",
    "    \"Unnamed: 8\" : \"seen_6\",}\n",
    "\n",
    "star_wars.rename(columns = movie_col_names_map, inplace = True)"
   ]
  },
  {
   "cell_type": "markdown",
   "metadata": {},
   "source": [
    "# Clean ranking columns"
   ]
  },
  {
   "cell_type": "code",
   "execution_count": 6,
   "metadata": {
    "collapsed": false
   },
   "outputs": [],
   "source": [
    "# Change type to integers\n",
    "star_wars[star_wars.columns[9:15]] = star_wars[star_wars.columns[9:15]].astype(float)\n",
    "\n",
    "# Rename columns\n",
    "rank_col_names_map = {\n",
    "    \"Please rank the Star Wars films in order of preference with 1 being your favorite film in the franchise and 6 being your least favorite film.\": \"ranking_1\",\n",
    "    \"Unnamed: 10\" : \"ranking_2\",\n",
    "    \"Unnamed: 11\" : \"ranking_3\",\n",
    "    \"Unnamed: 12\" : \"ranking_4\",\n",
    "    \"Unnamed: 13\" : \"ranking_5\",\n",
    "    \"Unnamed: 14\" : \"ranking_6\",}\n",
    "star_wars.rename(columns = rank_col_names_map, inplace = True)"
   ]
  },
  {
   "cell_type": "markdown",
   "metadata": {},
   "source": [
    "# Determine highest rated movie"
   ]
  },
  {
   "cell_type": "code",
   "execution_count": 7,
   "metadata": {
    "collapsed": false
   },
   "outputs": [
    {
     "data": {
      "image/png": "[encoded data removed]",
      "text/plain": [
       "<matplotlib.figure.Figure at 0x112568410>"
      ]
     },
     "metadata": {},
     "output_type": "display_data"
    }
   ],
   "source": [
    "ranking_means = star_wars[star_wars.columns[9:15]].apply(np.mean)\n",
    "\n",
    "cb_blue = (0/255.0, 107/255.0, 164/255.0)\n",
    "cb_orange = (255/255.0, 128/255.0, 14/255.0)\n",
    "\n",
    "fig, ax = plt.subplots(figsize = (8,6))\n",
    "ranking_means.plot.barh(ax = ax, color = cb_blue, alpha = 0.8)\n",
    "\n",
    "for key, val in ax.spines.items():\n",
    "    ax.spines[key].set_visible(False)\n",
    "\n",
    "ax.tick_params(bottom = 'off', right = 'off', top = 'off', left = 'off')\n",
    "ax.set_yticklabels(['Star Wars I', 'Star Wars II', 'Star Wars III', 'Star Wars IV', 'Star Wars V', 'Star Wars VI'])\n",
    "ax.set_title('Star Wars Rankings')\n",
    "\n",
    "plt.show()"
   ]
  },
  {
   "cell_type": "markdown",
   "metadata": {
    "collapsed": true
   },
   "source": [
    "### Since Star Wars V has lowest rank, this is the most popular movie amoung star wars series and Star Wars III is the least popular movie."
   ]
  },
  {
   "cell_type": "markdown",
   "metadata": {},
   "source": [
    "# Finding the most viewed movie"
   ]
  },
  {
   "cell_type": "code",
   "execution_count": 8,
   "metadata": {
    "collapsed": false
   },
   "outputs": [
    {
     "data": {
      "image/png": "[encoded data removed]",
      "text/plain": [
       "<matplotlib.figure.Figure at 0x1125b7150>"
      ]
     },
     "metadata": {},
     "output_type": "display_data"
    }
   ],
   "source": [
    "seen_counts = star_wars[star_wars.columns[3:9]].sum()\n",
    "\n",
    "fig, ax = plt.subplots(figsize = (8,6))\n",
    "seen_counts.plot.barh(ax = ax, color = cb_blue, alpha = 0.8)\n",
    "\n",
    "for key, val in ax.spines.items():\n",
    "    ax.spines[key].set_visible(False)\n",
    "\n",
    "ax.tick_params(bottom = 'off', right = 'off', top = 'off', left = 'off')\n",
    "ax.set_yticklabels(['Star Wars I', 'Star Wars II', 'Star Wars III', 'Star Wars IV', 'Star Wars V', 'Star Wars VI'])\n",
    "ax.set_title('Seen counts of Star Wars series')\n",
    "\n",
    "plt.show()"
   ]
  },
  {
   "cell_type": "markdown",
   "metadata": {},
   "source": [
    "### Star Wars V is most viewed movie in the series (which is also the most rated movie). Star Wars III is least seen movie, which is also the least popular movie in the series. \n",
    "### Hence the viewership is correlated with rating of the movie"
   ]
  },
  {
   "cell_type": "markdown",
   "metadata": {},
   "source": [
    "# Exploring data for Male/Female segments"
   ]
  },
  {
   "cell_type": "code",
   "execution_count": 9,
   "metadata": {
    "collapsed": false
   },
   "outputs": [
    {
     "data": {
      "image/png": "[encoded data removed]",
      "text/plain": [
       "<matplotlib.figure.Figure at 0x1158d0590>"
      ]
     },
     "metadata": {},
     "output_type": "display_data"
    }
   ],
   "source": [
    "# Determine highest rated movie and most viewed movie among the series for males and females separately\n",
    "males = star_wars[star_wars[\"Gender\"] == \"Male\"]\n",
    "females = star_wars[star_wars[\"Gender\"] == \"Female\"]\n",
    "\n",
    "# Create DataFrame from rankings\n",
    "ranking_means_males = males[males.columns[9:15]].apply(np.mean)\n",
    "ranking_means_females = females[females.columns[9:15]].apply(np.mean)\n",
    "ranking_males_females = pd.DataFrame(data = {'Male': ranking_means_males, 'Female': ranking_means_females})\n",
    "\n",
    "# Create DataFrame from viewerships\n",
    "seen_means_males = males[males.columns[3:9]].apply(np.sum)\n",
    "seen_means_females = females[females.columns[3:9]].apply(np.sum)\n",
    "seen_males_females = pd.DataFrame(data = {'Male': seen_means_males, 'Female': seen_means_females})\n",
    "\n",
    "bar_width = 0.35\n",
    "colors = [cb_blue, cb_orange]\n",
    "cols = ['Male','Female']\n",
    "\n",
    "fig = plt.figure(figsize = (15,6))\n",
    "ax1 = fig.add_subplot(1,2,1)\n",
    "ax2 = fig.add_subplot(1,2,2)\n",
    "\n",
    "for i in range(2):\n",
    "    ax = fig.add_subplot(1,2,i+1)\n",
    "    \n",
    "    if i == 0:\n",
    "        ranking_males_females[cols].plot.bar(ax = ax, width = bar_width, color = colors, alpha = 0.8)\n",
    "        ax.set_title('Rankings')\n",
    "    else:\n",
    "        seen_males_females[cols].plot.bar(ax = ax, width = bar_width, color = colors, alpha = 0.8)\n",
    "        ax.set_title('Viewerships')\n",
    "\n",
    "    # Remove spines\n",
    "    for key, val in ax.spines.items():\n",
    "        ax.spines[key].set_visible(False)\n",
    "        \n",
    "    ax.tick_params(bottom = 'off', right = 'off', top = 'off', left = 'off')\n",
    "    ax.set_xticklabels(['Star Wars I', 'Star Wars II', 'Star Wars III', 'Star Wars IV', 'Star Wars V', 'Star Wars VI'])\n",
    "     \n",
    "plt.legend(loc='upper center') # This will change legend of the second plot only, which is desired\n",
    "plt.show()"
   ]
  },
  {
   "cell_type": "markdown",
   "metadata": {},
   "source": [
    "### From the plot above we observe that Star Wars I and II are more popular among females and Star Wars III, IV, V and VI are more popular among males\n",
    "### From viewrships, we observe that overall males watch Star Wars series more than females"
   ]
  },
  {
   "cell_type": "code",
   "execution_count": null,
   "metadata": {
    "collapsed": true
   },
   "outputs": [],
   "source": []
  }
 ],
 "metadata": {
  "anaconda-cloud": {},
  "kernelspec": {
   "display_name": "Python [default]",
   "language": "python",
   "name": "python2"
  },
  "language_info": {
   "codemirror_mode": {
    "name": "ipython",
    "version": 2
   },
   "file_extension": ".py",
   "mimetype": "text/x-python",
   "name": "python",
   "nbconvert_exporter": "python",
   "pygments_lexer": "ipython2",
   "version": "2.7.12"
  }
 },
 "nbformat": 4,
 "nbformat_minor": 0
}
